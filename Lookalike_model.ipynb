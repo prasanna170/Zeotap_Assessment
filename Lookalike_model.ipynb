{
  "nbformat": 4,
  "nbformat_minor": 0,
  "metadata": {
    "colab": {
      "provenance": []
    },
    "kernelspec": {
      "name": "python3",
      "display_name": "Python 3"
    },
    "language_info": {
      "name": "python"
    }
  },
  "cells": [
    {
      "cell_type": "markdown",
      "source": [
        "# **Task 2: Lookalike Model**\n"
      ],
      "metadata": {
        "id": "HEG-ElTd1gLk"
      }
    },
    {
      "cell_type": "code",
      "execution_count": 9,
      "metadata": {
        "id": "Jrd6nnC0tyZh"
      },
      "outputs": [],
      "source": [
        "# Libraries\n",
        "import pandas as pd\n",
        "from sklearn.preprocessing import LabelEncoder\n",
        "from sklearn.metrics.pairwise import cosine_similarity"
      ]
    },
    {
      "cell_type": "code",
      "source": [
        "# Datasets\n",
        "customers = pd.read_csv('/content/Customers.csv')\n",
        "products = pd.read_csv('/content/Products.csv')\n",
        "transactions = pd.read_csv('/content/Transactions.csv')"
      ],
      "metadata": {
        "id": "TqxbOQCzuL2a"
      },
      "execution_count": 7,
      "outputs": []
    },
    {
      "cell_type": "code",
      "source": [
        "# Preparation of data for Lookalike Model\n",
        "transactions_customers = transactions.merge(customers, on='CustomerID') # Transactions got merged with customers using CustomerID column\n",
        "customer_transaction_data = transactions_customers[['CustomerID', 'Region', 'TotalValue', 'Quantity']]\n",
        "customer_transaction_summary = customer_transaction_data.groupby(['CustomerID', 'Region']).sum().reset_index()"
      ],
      "metadata": {
        "id": "4oHHTqu4tzdq"
      },
      "execution_count": 10,
      "outputs": []
    },
    {
      "cell_type": "code",
      "source": [
        "# Encode region data (Converts categorical data to numerical data)\n",
        "le = LabelEncoder()\n",
        "customer_transaction_summary['RegionEncoded'] = le.fit_transform(customer_transaction_summary['Region'])"
      ],
      "metadata": {
        "id": "A0bGrNao0u20"
      },
      "execution_count": 11,
      "outputs": []
    },
    {
      "cell_type": "code",
      "source": [
        "# Normalizing the data (Helps in preventing bias from large values)\n",
        "normalized_data = customer_transaction_summary[['TotalValue', 'Quantity', 'RegionEncoded']].apply(\n",
        "    lambda x: (x - x.min()) / (x.max() - x.min())\n",
        ")"
      ],
      "metadata": {
        "id": "7qZducBV0wBi"
      },
      "execution_count": 12,
      "outputs": []
    },
    {
      "cell_type": "code",
      "source": [
        "# Calculate cosine similarity (calculates how similar the customers are based on normalized transaction features)\n",
        "similarity_matrix = cosine_similarity(normalized_data)\n",
        "customer_ids = customer_transaction_summary['CustomerID'].values"
      ],
      "metadata": {
        "id": "uUIHQgN40zbx"
      },
      "execution_count": 13,
      "outputs": []
    },
    {
      "cell_type": "code",
      "source": [
        "# Finding out top 3 similar customers for the first 20 customers\n",
        "lookalike_results = {}\n",
        "for idx in range(20):  # Selecting first 20 customers\n",
        "    similarity_scores = list(enumerate(similarity_matrix[idx]))\n",
        "    similarity_scores = sorted(similarity_scores, key=lambda x: x[1], reverse=True)\n",
        "    top_3_similar = [(customer_ids[i], score) for i, score in similarity_scores[1:4]]\n",
        "    lookalike_results[customer_ids[idx]] = top_3_similar"
      ],
      "metadata": {
        "id": "fvBpuvrk02lm"
      },
      "execution_count": 14,
      "outputs": []
    },
    {
      "cell_type": "code",
      "source": [
        "# Conversion of the results to a CSV file\n",
        "lookalike_df = pd.DataFrame([{'cust_id': key, 'lookalikes': value} for key, value in lookalike_results.items()])\n",
        "lookalike_df.to_csv('Lookalike_Results.csv', index=False)"
      ],
      "metadata": {
        "id": "fWv2M8CG05fz"
      },
      "execution_count": 15,
      "outputs": []
    }
  ]
}